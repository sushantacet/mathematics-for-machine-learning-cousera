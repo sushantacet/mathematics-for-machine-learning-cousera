{
  "nbformat": 4,
  "nbformat_minor": 0,
  "metadata": {
    "colab": {
      "name": "Identifying_Special_Matrices.ipynb",
      "provenance": [],
      "authorship_tag": "ABX9TyNXmy1C9P+0ijICiNIL08UE",
      "include_colab_link": true
    },
    "kernelspec": {
      "name": "python3",
      "display_name": "Python 3"
    }
  },
  "cells": [
    {
      "cell_type": "markdown",
      "metadata": {
        "id": "view-in-github",
        "colab_type": "text"
      },
      "source": [
        "<a href=\"https://colab.research.google.com/github/sushantacet/mathematics-for-machine-learning-cousera/blob/master/Identifying_Special_Matrices.ipynb\" target=\"_parent\"><img src=\"https://colab.research.google.com/assets/colab-badge.svg\" alt=\"Open In Colab\"/></a>"
      ]
    },
    {
      "cell_type": "code",
      "metadata": {
        "id": "SfEsFm6OUbZf",
        "colab_type": "code",
        "colab": {}
      },
      "source": [
        "# GRADED FUNCTION\n",
        "import numpy as np\n",
        "\n",
        "# Our function will go through the matrix replacing each row in order turning it into echelon form.\n",
        "# If at any point it fails because it can't put a 1 in the leading diagonal,\n",
        "# we will return the value True, otherwise, we will return False.\n",
        "# There is no need to edit this function.\n",
        "def isSingular(A) :\n",
        "    B = np.array(A, dtype=np.float_) # Make B as a copy of A, since we're going to alter it's values.\n",
        "    try:\n",
        "        fixRowZero(B)\n",
        "        fixRowOne(B)\n",
        "        fixRowTwo(B)\n",
        "        fixRowThree(B)\n",
        "    except MatrixIsSingular:\n",
        "        return True\n",
        "    return False\n",
        "\n",
        "# This next line defines our error flag. For when things go wrong if the matrix is singular.\n",
        "# There is no need to edit this line.\n",
        "class MatrixIsSingular(Exception): pass\n",
        "\n",
        "# For Row Zero, all we require is the first element is equal to 1.\n",
        "# We'll divide the row by the value of A[0, 0].\n",
        "# This will get us in trouble though if A[0, 0] equals 0, so first we'll test for that,\n",
        "# and if this is true, we'll add one of the lower rows to the first one before the division.\n",
        "# We'll repeat the test going down each lower row until we can do the division.\n",
        "# There is no need to edit this function.\n",
        "def fixRowZero(A) :\n",
        "    if A[0,0] == 0 :\n",
        "        A[0] = A[0] + A[1]\n",
        "    if A[0,0] == 0 :\n",
        "        A[0] = A[0] + A[2]\n",
        "    if A[0,0] == 0 :\n",
        "        A[0] = A[0] + A[3]\n",
        "    if A[0,0] == 0 :\n",
        "        raise MatrixIsSingular()\n",
        "    A[0] = A[0] / A[0,0]\n",
        "    return A\n",
        "\n",
        "# First we'll set the sub-diagonal elements to zero, i.e. A[1,0].\n",
        "# Next we want the diagonal element to be equal to one.\n",
        "# We'll divide the row by the value of A[1, 1].\n",
        "# Again, we need to test if this is zero.\n",
        "# If so, we'll add a lower row and repeat setting the sub-diagonal elements to zero.\n",
        "# There is no need to edit this function.\n",
        "def fixRowOne(A) :\n",
        "    A[1] = A[1] - A[1,0] * A[0]\n",
        "    if A[1,1] == 0 :\n",
        "        A[1] = A[1] + A[2]\n",
        "        A[1] = A[1] - A[1,0] * A[0]\n",
        "    if A[1,1] == 0 :\n",
        "        A[1] = A[1] + A[3]\n",
        "        A[1] = A[1] - A[1,0] * A[0]\n",
        "    if A[1,1] == 0 :\n",
        "        raise MatrixIsSingular()\n",
        "    A[1] = A[1] / A[1,1]\n",
        "    return A\n",
        "\n",
        "# This is the first function that you should complete.\n",
        "# Follow the instructions inside the function at each comment.\n",
        "def fixRowTwo(A) :\n",
        "    # Insert code below to set the sub-diagonal elements of row two to zero (there are two of them).\n",
        "    A[2] = A[2] - A[2,0] * A[0]\n",
        "    A[2] = A[2] - A[2,1] * A[1]\n",
        "    \n",
        "    # Next we'll test that the diagonal element is not zero.\n",
        "    if A[2,2] == 0 :\n",
        "        # Insert code below that adds a lower row to row 2.\n",
        "        A[2] = A[2] + A[3]        \n",
        "        # Now repeat your code which sets the sub-diagonal elements to zero.\n",
        "        A[2] = A[2] - A[2,0] * A[0]\n",
        "        A[2] = A[2] - A[2,1] * A[1]\n",
        "        \n",
        "    if A[2,2] == 0 :\n",
        "        raise MatrixIsSingular()\n",
        "    # Finally set the diagonal element to one by dividing the whole row by that element.\n",
        "    A[2] = A[2] / A[2,2]\n",
        "    return A\n",
        "\n",
        "# You should also complete this function\n",
        "# Follow the instructions inside the function at each comment.\n",
        "def fixRowThree(A) :\n",
        "    # Insert code below to set the sub-diagonal elements of row three to zero.\n",
        "    A[3] = A[3] - A[3,0] * A[0]\n",
        "    A[3] = A[3] - A[3,1] * A[1]\n",
        "    A[3] = A[3] - A[3,2] * A[2]    \n",
        "    \n",
        "    # Complete the if statement to test if the diagonal element is zero.\n",
        "    if A[3,3] == 0:\n",
        "        raise MatrixIsSingular()\n",
        "    # Transform the row to set the diagonal element to one.\n",
        "    A[3] = A[3] / A[3,3]\n",
        "    return A"
      ],
      "execution_count": 1,
      "outputs": []
    },
    {
      "cell_type": "code",
      "metadata": {
        "id": "HMbIPE_2Uf3b",
        "colab_type": "code",
        "colab": {
          "base_uri": "https://localhost:8080/",
          "height": 34
        },
        "outputId": "e56bb7f9-387c-4520-d7fe-5ab05157dd40"
      },
      "source": [
        "A = np.array([\n",
        "        [2, 0, 0, 0],\n",
        "        [0, 3, 0, 0],\n",
        "        [0, 0, 4, 4],\n",
        "        [0, 0, 5, 5]\n",
        "    ], dtype=np.float_)\n",
        "isSingular(A)"
      ],
      "execution_count": 2,
      "outputs": [
        {
          "output_type": "execute_result",
          "data": {
            "text/plain": [
              "True"
            ]
          },
          "metadata": {
            "tags": []
          },
          "execution_count": 2
        }
      ]
    },
    {
      "cell_type": "code",
      "metadata": {
        "id": "JX1go63EUm--",
        "colab_type": "code",
        "colab": {
          "base_uri": "https://localhost:8080/",
          "height": 85
        },
        "outputId": "588c7c38-7d65-4bb6-8f95-654f4882ba19"
      },
      "source": [
        "A = np.array([\n",
        "        [0, 7, -5, 3],\n",
        "        [2, 8, 0, 4],\n",
        "        [3, 12, 0, 5],\n",
        "        [1, 3, 1, 3]\n",
        "    ], dtype=np.float_)\n",
        "fixRowZero(A)"
      ],
      "execution_count": 3,
      "outputs": [
        {
          "output_type": "execute_result",
          "data": {
            "text/plain": [
              "array([[ 1. ,  7.5, -2.5,  3.5],\n",
              "       [ 2. ,  8. ,  0. ,  4. ],\n",
              "       [ 3. , 12. ,  0. ,  5. ],\n",
              "       [ 1. ,  3. ,  1. ,  3. ]])"
            ]
          },
          "metadata": {
            "tags": []
          },
          "execution_count": 3
        }
      ]
    },
    {
      "cell_type": "code",
      "metadata": {
        "id": "mCbfDbVRUrMC",
        "colab_type": "code",
        "colab": {
          "base_uri": "https://localhost:8080/",
          "height": 85
        },
        "outputId": "876d0a28-bf3f-45c6-9dd8-f408a88692c1"
      },
      "source": [
        "fixRowOne(A)"
      ],
      "execution_count": 4,
      "outputs": [
        {
          "output_type": "execute_result",
          "data": {
            "text/plain": [
              "array([[ 1.        ,  7.5       , -2.5       ,  3.5       ],\n",
              "       [-0.        ,  1.        , -0.71428571,  0.42857143],\n",
              "       [ 3.        , 12.        ,  0.        ,  5.        ],\n",
              "       [ 1.        ,  3.        ,  1.        ,  3.        ]])"
            ]
          },
          "metadata": {
            "tags": []
          },
          "execution_count": 4
        }
      ]
    },
    {
      "cell_type": "code",
      "metadata": {
        "id": "jag2BGPAUupi",
        "colab_type": "code",
        "colab": {
          "base_uri": "https://localhost:8080/",
          "height": 85
        },
        "outputId": "ffde6278-bc6b-444e-af33-742e9e6a863b"
      },
      "source": [
        "fixRowTwo(A)"
      ],
      "execution_count": 5,
      "outputs": [
        {
          "output_type": "execute_result",
          "data": {
            "text/plain": [
              "array([[ 1.        ,  7.5       , -2.5       ,  3.5       ],\n",
              "       [-0.        ,  1.        , -0.71428571,  0.42857143],\n",
              "       [ 0.        ,  0.        ,  1.        ,  1.5       ],\n",
              "       [ 1.        ,  3.        ,  1.        ,  3.        ]])"
            ]
          },
          "metadata": {
            "tags": []
          },
          "execution_count": 5
        }
      ]
    },
    {
      "cell_type": "code",
      "metadata": {
        "id": "8VrrJFUWUxp7",
        "colab_type": "code",
        "colab": {
          "base_uri": "https://localhost:8080/",
          "height": 85
        },
        "outputId": "b79fedb2-b12d-4ccf-acad-e4b7df81fe37"
      },
      "source": [
        "\n",
        "fixRowThree(A)"
      ],
      "execution_count": 6,
      "outputs": [
        {
          "output_type": "execute_result",
          "data": {
            "text/plain": [
              "array([[ 1.        ,  7.5       , -2.5       ,  3.5       ],\n",
              "       [-0.        ,  1.        , -0.71428571,  0.42857143],\n",
              "       [ 0.        ,  0.        ,  1.        ,  1.5       ],\n",
              "       [ 0.        ,  0.        ,  0.        ,  1.        ]])"
            ]
          },
          "metadata": {
            "tags": []
          },
          "execution_count": 6
        }
      ]
    }
  ]
}